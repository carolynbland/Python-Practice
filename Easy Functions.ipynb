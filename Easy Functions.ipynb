{
 "cells": [
  {
   "cell_type": "markdown",
   "id": "145cba17",
   "metadata": {},
   "source": [
    "# Pythonian Scienccee "
   ]
  },
  {
   "cell_type": "markdown",
   "id": "9890d657",
   "metadata": {},
   "source": [
    "### Hide all but last four characters of credit card number"
   ]
  },
  {
   "cell_type": "code",
   "execution_count": 48,
   "id": "4ea3e45a",
   "metadata": {},
   "outputs": [],
   "source": [
    "def hidden(credit):\n",
    "    hide = ''\n",
    "    for i in range(0,len(credit)-4):\n",
    "        hide += '*'\n",
    "    for i in range(len(credit)-4,len(credit)):\n",
    "        hide += credit[i]\n",
    "    return hide"
   ]
  },
  {
   "cell_type": "code",
   "execution_count": 49,
   "id": "4278f056",
   "metadata": {},
   "outputs": [
    {
     "data": {
      "text/plain": [
       "'********9293'"
      ]
     },
     "execution_count": 49,
     "metadata": {},
     "output_type": "execute_result"
    }
   ],
   "source": [
    "hidden(\"124893999293\")"
   ]
  },
  {
   "cell_type": "markdown",
   "id": "1b683c09",
   "metadata": {},
   "source": [
    "### Are the Xs equal to the Os?"
   ]
  },
  {
   "cell_type": "code",
   "execution_count": 78,
   "id": "14f49aa3",
   "metadata": {},
   "outputs": [],
   "source": [
    "def xo_counts(kisses):\n",
    "    count1 = 0\n",
    "    count2 = 0\n",
    "    for i in range(0,len(kisses)):\n",
    "        if kisses[i] == 'x':\n",
    "            count1 += 1 \n",
    "        elif kisses[i]=='o':\n",
    "            count2 += 1 \n",
    "        else:\n",
    "            #print(\"Check your string\")\n",
    "            return \"Check your string\"\n",
    "    if count1 is count2:\n",
    "        return \"Same number of Xs and Os\"\n",
    "    else:\n",
    "        return \"Not the Same Number of Xs and Os\""
   ]
  },
  {
   "cell_type": "code",
   "execution_count": 80,
   "id": "91a47a54",
   "metadata": {},
   "outputs": [
    {
     "data": {
      "text/plain": [
       "'Not the Same Number of Xs and Os'"
      ]
     },
     "execution_count": 80,
     "metadata": {},
     "output_type": "execute_result"
    }
   ],
   "source": [
    "kisses = 'xxxooxoxxxo'\n",
    "xo_counts(kisses)"
   ]
  },
  {
   "cell_type": "markdown",
   "id": "e3ae0169",
   "metadata": {},
   "source": [
    "### Just the integers from list of anything"
   ]
  },
  {
   "cell_type": "code",
   "execution_count": 115,
   "id": "7ba0b8a0",
   "metadata": {},
   "outputs": [],
   "source": [
    "list1 = [\"line\",42,'cat',6,8,\"lake\"]\n",
    "def crazylist(list1):\n",
    "    list2 = []\n",
    "    for i in list1:\n",
    "        if type(i)==int:\n",
    "            list2.append(i)\n",
    "    return list2\n"
   ]
  },
  {
   "cell_type": "code",
   "execution_count": 116,
   "id": "201e182a",
   "metadata": {},
   "outputs": [
    {
     "data": {
      "text/plain": [
       "[42, 6, 8]"
      ]
     },
     "execution_count": 116,
     "metadata": {},
     "output_type": "execute_result"
    }
   ],
   "source": [
    "crazylist(list1)"
   ]
  },
  {
   "cell_type": "markdown",
   "id": "df9dbd6a",
   "metadata": {},
   "source": [
    "### Repeat the characters in the original string"
   ]
  },
  {
   "cell_type": "code",
   "execution_count": 163,
   "id": "134ee1d1",
   "metadata": {},
   "outputs": [],
   "source": [
    "def longer(long):\n",
    "    new = []\n",
    "    for i in range(0,len(long)):\n",
    "        new.append(long[i]*2)\n",
    "    new = ''.join(new)\n",
    "    return new\n",
    "    "
   ]
  },
  {
   "cell_type": "code",
   "execution_count": 164,
   "id": "2f2e3124",
   "metadata": {},
   "outputs": [
    {
     "data": {
      "text/plain": [
       "'lllllloooooooonnnnnngggggg'"
      ]
     },
     "execution_count": 164,
     "metadata": {},
     "output_type": "execute_result"
    }
   ],
   "source": [
    "long = \"llloooonnnggg\"\n",
    "longer(long)"
   ]
  },
  {
   "cell_type": "markdown",
   "id": "6712316c",
   "metadata": {},
   "source": [
    "### Sorting a List in Ascending and Descending Order"
   ]
  },
  {
   "cell_type": "code",
   "execution_count": 171,
   "id": "f675133e",
   "metadata": {},
   "outputs": [],
   "source": [
    "def sorting(list1,var):\n",
    "    if var == \"asc\":\n",
    "        list1.sort()\n",
    "    elif var == \"desc\":\n",
    "        list1.sort(reverse=True)\n",
    "    else:\n",
    "        list1 = list1 \n",
    "    return list1"
   ]
  },
  {
   "cell_type": "code",
   "execution_count": 174,
   "id": "fa4e8afe",
   "metadata": {},
   "outputs": [
    {
     "data": {
      "text/plain": [
       "[3, 6, 1, 2, 7, 9, 2, 4]"
      ]
     },
     "execution_count": 174,
     "metadata": {},
     "output_type": "execute_result"
    }
   ],
   "source": [
    "list1 = [3,6,1,2,7,9,2,4]\n",
    "sorting(list1,\"none\")"
   ]
  },
  {
   "cell_type": "code",
   "execution_count": null,
   "id": "f8c4ad1e",
   "metadata": {},
   "outputs": [],
   "source": []
  },
  {
   "cell_type": "code",
   "execution_count": null,
   "id": "9a18389f",
   "metadata": {},
   "outputs": [],
   "source": []
  },
  {
   "cell_type": "code",
   "execution_count": null,
   "id": "dbf0f07f",
   "metadata": {},
   "outputs": [],
   "source": []
  },
  {
   "cell_type": "code",
   "execution_count": null,
   "id": "c8450001",
   "metadata": {},
   "outputs": [],
   "source": []
  }
 ],
 "metadata": {
  "kernelspec": {
   "display_name": "Python 3",
   "language": "python",
   "name": "python3"
  },
  "language_info": {
   "codemirror_mode": {
    "name": "ipython",
    "version": 3
   },
   "file_extension": ".py",
   "mimetype": "text/x-python",
   "name": "python",
   "nbconvert_exporter": "python",
   "pygments_lexer": "ipython3",
   "version": "3.8.8"
  }
 },
 "nbformat": 4,
 "nbformat_minor": 5
}
